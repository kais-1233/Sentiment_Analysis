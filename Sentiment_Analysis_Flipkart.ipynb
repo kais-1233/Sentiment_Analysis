{
 "cells": [
  {
   "cell_type": "code",
   "execution_count": 75,
   "id": "c9af57fa-52e2-4501-a2b2-cc6c2ee73bd4",
   "metadata": {},
   "outputs": [],
   "source": [
    "# Step 1: Libraries Import\n",
    "import pandas as pd\n",
    "import numpy as np\n",
    "import re\n",
    "import nltk\n",
    "from nltk.corpus import stopwords\n",
    "from nltk.tokenize import word_tokenize\n",
    "from sklearn.feature_extraction.text import TfidfVectorizer\n",
    "from sklearn.linear_model import LogisticRegression\n",
    "from sklearn.model_selection import train_test_split\n",
    "from sklearn.metrics import classification_report, confusion_matrix, accuracy_score\n",
    "import seaborn as sns\n",
    "import matplotlib.pyplot as plt\n",
    "\n",
    "import warnings\n",
    "warnings.filterwarnings('ignore')\n"
   ]
  },
  {
   "cell_type": "code",
   "execution_count": null,
   "id": "de0ecfcd-6345-480f-981b-01977dc9c299",
   "metadata": {},
   "outputs": [],
   "source": [
    "from nltk.sentiment.vader import SentimentIntensityAnalyzer\n",
    "nltk.download('vader_lexicon')\n",
    "\n",
    "vader = SentimentIntensityAnalyzer()\n"
   ]
  },
  {
   "cell_type": "code",
   "execution_count": null,
   "id": "ced0cb03-2152-40b4-bc16-3422dc282356",
   "metadata": {},
   "outputs": [],
   "source": [
    "nltk.download('punkt')\n",
    "nltk.download('stopwords')\n",
    "\n",
    "stop_words = set(stopwords.words('english'))\n"
   ]
  },
  {
   "cell_type": "code",
   "execution_count": 23,
   "id": "0f0597c4-411a-4c6b-b2dd-7d9898268581",
   "metadata": {},
   "outputs": [
    {
     "name": "stdout",
     "output_type": "stream",
     "text": [
      "Dataset Preview:\n",
      "       reviewerID        asin reviewerName helpful  \\\n",
      "0  A3SBTW3WS4IQSN  B007WTAJTO          NaN  [0, 0]   \n",
      "1  A18K1ODH1I2MVB  B007WTAJTO         0mie  [0, 0]   \n",
      "\n",
      "                                          reviewText  overall        summary  \\\n",
      "0                                         No issues.      4.0     Four Stars   \n",
      "1  Purchased this for my device, it worked as adv...      5.0  MOAR SPACE!!!   \n",
      "\n",
      "   unixReviewTime  reviewTime  day_diff  helpful_yes  total_vote  \n",
      "0      1406073600  2014-07-23       138            0           0  \n",
      "1      1382659200  2013-10-25       409            0           0  \n"
     ]
    }
   ],
   "source": [
    "df = pd.read_csv(\"C:\\\\Users\\\\kkais\\\\Downloads\\\\amazon_review.csv\")  # path according to folder structure\n",
    "print(\"Dataset Preview:\")\n",
    "print(df.head(2))"
   ]
  },
  {
   "cell_type": "code",
   "execution_count": null,
   "id": "8ad750b5-d474-4d66-adf2-c2f3aeb4cb96",
   "metadata": {},
   "outputs": [],
   "source": [
    " \n"
   ]
  },
  {
   "cell_type": "code",
   "execution_count": 24,
   "id": "6ffcbb63-c4d8-4a7a-89f2-34d537d2cce7",
   "metadata": {},
   "outputs": [
    {
     "data": {
      "text/html": [
       "<div>\n",
       "<style scoped>\n",
       "    .dataframe tbody tr th:only-of-type {\n",
       "        vertical-align: middle;\n",
       "    }\n",
       "\n",
       "    .dataframe tbody tr th {\n",
       "        vertical-align: top;\n",
       "    }\n",
       "\n",
       "    .dataframe thead th {\n",
       "        text-align: right;\n",
       "    }\n",
       "</style>\n",
       "<table border=\"1\" class=\"dataframe\">\n",
       "  <thead>\n",
       "    <tr style=\"text-align: right;\">\n",
       "      <th></th>\n",
       "      <th>reviewText</th>\n",
       "      <th>overall</th>\n",
       "    </tr>\n",
       "  </thead>\n",
       "  <tbody>\n",
       "    <tr>\n",
       "      <th>0</th>\n",
       "      <td>No issues.</td>\n",
       "      <td>4.0</td>\n",
       "    </tr>\n",
       "    <tr>\n",
       "      <th>1</th>\n",
       "      <td>Purchased this for my device, it worked as adv...</td>\n",
       "      <td>5.0</td>\n",
       "    </tr>\n",
       "    <tr>\n",
       "      <th>2</th>\n",
       "      <td>it works as expected. I should have sprung for...</td>\n",
       "      <td>4.0</td>\n",
       "    </tr>\n",
       "    <tr>\n",
       "      <th>3</th>\n",
       "      <td>This think has worked out great.Had a diff. br...</td>\n",
       "      <td>5.0</td>\n",
       "    </tr>\n",
       "    <tr>\n",
       "      <th>4</th>\n",
       "      <td>Bought it with Retail Packaging, arrived legit...</td>\n",
       "      <td>5.0</td>\n",
       "    </tr>\n",
       "    <tr>\n",
       "      <th>...</th>\n",
       "      <td>...</td>\n",
       "      <td>...</td>\n",
       "    </tr>\n",
       "    <tr>\n",
       "      <th>4910</th>\n",
       "      <td>I bought this Sandisk 16GB Class 10 to use wit...</td>\n",
       "      <td>1.0</td>\n",
       "    </tr>\n",
       "    <tr>\n",
       "      <th>4911</th>\n",
       "      <td>Used this for extending the capabilities of my...</td>\n",
       "      <td>5.0</td>\n",
       "    </tr>\n",
       "    <tr>\n",
       "      <th>4912</th>\n",
       "      <td>Great card that is very fast and reliable. It ...</td>\n",
       "      <td>5.0</td>\n",
       "    </tr>\n",
       "    <tr>\n",
       "      <th>4913</th>\n",
       "      <td>Good amount of space for the stuff I want to d...</td>\n",
       "      <td>5.0</td>\n",
       "    </tr>\n",
       "    <tr>\n",
       "      <th>4914</th>\n",
       "      <td>I've heard bad things about this 64gb Micro SD...</td>\n",
       "      <td>5.0</td>\n",
       "    </tr>\n",
       "  </tbody>\n",
       "</table>\n",
       "<p>4915 rows × 2 columns</p>\n",
       "</div>"
      ],
      "text/plain": [
       "                                             reviewText  overall\n",
       "0                                            No issues.      4.0\n",
       "1     Purchased this for my device, it worked as adv...      5.0\n",
       "2     it works as expected. I should have sprung for...      4.0\n",
       "3     This think has worked out great.Had a diff. br...      5.0\n",
       "4     Bought it with Retail Packaging, arrived legit...      5.0\n",
       "...                                                 ...      ...\n",
       "4910  I bought this Sandisk 16GB Class 10 to use wit...      1.0\n",
       "4911  Used this for extending the capabilities of my...      5.0\n",
       "4912  Great card that is very fast and reliable. It ...      5.0\n",
       "4913  Good amount of space for the stuff I want to d...      5.0\n",
       "4914  I've heard bad things about this 64gb Micro SD...      5.0\n",
       "\n",
       "[4915 rows x 2 columns]"
      ]
     },
     "execution_count": 24,
     "metadata": {},
     "output_type": "execute_result"
    }
   ],
   "source": [
    "df = df[['reviewText', 'overall']]\n",
    "df"
   ]
  },
  {
   "cell_type": "code",
   "execution_count": 25,
   "id": "8ffa2036-d18f-4c00-9c99-55a088afafe2",
   "metadata": {},
   "outputs": [
    {
     "data": {
      "text/html": [
       "<div>\n",
       "<style scoped>\n",
       "    .dataframe tbody tr th:only-of-type {\n",
       "        vertical-align: middle;\n",
       "    }\n",
       "\n",
       "    .dataframe tbody tr th {\n",
       "        vertical-align: top;\n",
       "    }\n",
       "\n",
       "    .dataframe thead th {\n",
       "        text-align: right;\n",
       "    }\n",
       "</style>\n",
       "<table border=\"1\" class=\"dataframe\">\n",
       "  <thead>\n",
       "    <tr style=\"text-align: right;\">\n",
       "      <th></th>\n",
       "      <th>overall</th>\n",
       "    </tr>\n",
       "  </thead>\n",
       "  <tbody>\n",
       "    <tr>\n",
       "      <th>count</th>\n",
       "      <td>4915.000000</td>\n",
       "    </tr>\n",
       "    <tr>\n",
       "      <th>mean</th>\n",
       "      <td>4.587589</td>\n",
       "    </tr>\n",
       "    <tr>\n",
       "      <th>std</th>\n",
       "      <td>0.996845</td>\n",
       "    </tr>\n",
       "    <tr>\n",
       "      <th>min</th>\n",
       "      <td>1.000000</td>\n",
       "    </tr>\n",
       "    <tr>\n",
       "      <th>25%</th>\n",
       "      <td>5.000000</td>\n",
       "    </tr>\n",
       "    <tr>\n",
       "      <th>50%</th>\n",
       "      <td>5.000000</td>\n",
       "    </tr>\n",
       "    <tr>\n",
       "      <th>75%</th>\n",
       "      <td>5.000000</td>\n",
       "    </tr>\n",
       "    <tr>\n",
       "      <th>max</th>\n",
       "      <td>5.000000</td>\n",
       "    </tr>\n",
       "  </tbody>\n",
       "</table>\n",
       "</div>"
      ],
      "text/plain": [
       "           overall\n",
       "count  4915.000000\n",
       "mean      4.587589\n",
       "std       0.996845\n",
       "min       1.000000\n",
       "25%       5.000000\n",
       "50%       5.000000\n",
       "75%       5.000000\n",
       "max       5.000000"
      ]
     },
     "execution_count": 25,
     "metadata": {},
     "output_type": "execute_result"
    }
   ],
   "source": [
    "df.describe()"
   ]
  },
  {
   "cell_type": "code",
   "execution_count": 26,
   "id": "1a6998f0-faaa-48ce-9ec1-33c812b52312",
   "metadata": {},
   "outputs": [
    {
     "name": "stdout",
     "output_type": "stream",
     "text": [
      "reviewText    1\n",
      "overall       0\n",
      "dtype: int64\n"
     ]
    }
   ],
   "source": [
    "# Check missing values\n",
    "print(df.isnull().sum())\n",
    "\n",
    " \n"
   ]
  },
  {
   "cell_type": "code",
   "execution_count": 39,
   "id": "af0ca0b0-f2eb-449b-9a80-d8ae64659992",
   "metadata": {},
   "outputs": [],
   "source": [
    "# Fill missing reviewText with a placeholder\n",
    "df.loc[:, 'reviewText'] = df['reviewText'].fillna('No review')\n",
    "\n"
   ]
  },
  {
   "cell_type": "code",
   "execution_count": 40,
   "id": "e526a1a3-3a4b-486c-b1d2-8e72d543f945",
   "metadata": {},
   "outputs": [
    {
     "name": "stdout",
     "output_type": "stream",
     "text": [
      "reviewText        0\n",
      "overall           0\n",
      "Sentiment         0\n",
      "cleaned_review    0\n",
      "dtype: int64\n"
     ]
    }
   ],
   "source": [
    "print(df.isnull().sum())"
   ]
  },
  {
   "cell_type": "code",
   "execution_count": 41,
   "id": "2d8fe763-9698-4b7e-a969-b5a7ee13871c",
   "metadata": {},
   "outputs": [],
   "source": [
    "def map_sentiment(rating):\n",
    "    if rating in [1, 2]:\n",
    "        return 'Negative'\n",
    "    elif rating == 3:\n",
    "        return 'Neutral'\n",
    "    else:  # 4 or 5\n",
    "        return 'Positive'\n",
    "\n",
    "df.loc[:, 'Sentiment'] = df['overall'].apply(map_sentiment)\n"
   ]
  },
  {
   "cell_type": "code",
   "execution_count": 42,
   "id": "535d1d24-8552-4373-852a-faf1d5252df2",
   "metadata": {},
   "outputs": [
    {
     "name": "stdout",
     "output_type": "stream",
     "text": [
      "Sentiment\n",
      "Positive    4449\n",
      "Negative     324\n",
      "Neutral      142\n",
      "Name: count, dtype: int64\n"
     ]
    }
   ],
   "source": [
    "print(df['Sentiment'].value_counts())\n"
   ]
  },
  {
   "cell_type": "code",
   "execution_count": 43,
   "id": "772a4686-b7d2-41fd-ae40-fa2af4bf811e",
   "metadata": {},
   "outputs": [
    {
     "name": "stdout",
     "output_type": "stream",
     "text": [
      "                                          reviewText  overall Sentiment\n",
      "0                                         No issues.      4.0  Positive\n",
      "1  Purchased this for my device, it worked as adv...      5.0  Positive\n",
      "2  it works as expected. I should have sprung for...      4.0  Positive\n",
      "3  This think has worked out great.Had a diff. br...      5.0  Positive\n",
      "4  Bought it with Retail Packaging, arrived legit...      5.0  Positive\n"
     ]
    }
   ],
   "source": [
    "print(df[['reviewText', 'overall', 'Sentiment']].head())"
   ]
  },
  {
   "cell_type": "code",
   "execution_count": 44,
   "id": "d695c13a-5fc7-47d9-a38e-6cbac085b14a",
   "metadata": {},
   "outputs": [],
   "source": [
    "# Step 3: Text Cleaning + Negation Handling\n",
    "def clean_text(text):\n",
    "    text = str(text).lower()\n",
    "    text = re.sub(r'[^a-z\\s]', '', text)\n",
    "    text = re.sub(r\"not\\s+(\\w+)\", r\"not_\\1\", text)  # join negations like \"not_good\"\n",
    "    words = word_tokenize(text)\n",
    "    words = [w for w in words if w not in stop_words]\n",
    "    return ' '.join(words)\n"
   ]
  },
  {
   "cell_type": "code",
   "execution_count": 45,
   "id": "11cb141a-a2bd-45dc-8769-55e7e3b89f7d",
   "metadata": {},
   "outputs": [
    {
     "name": "stdout",
     "output_type": "stream",
     "text": [
      "\n",
      "After Cleaning:\n",
      "                                          reviewText  \\\n",
      "0                                         No issues.   \n",
      "1  Purchased this for my device, it worked as adv...   \n",
      "2  it works as expected. I should have sprung for...   \n",
      "3  This think has worked out great.Had a diff. br...   \n",
      "4  Bought it with Retail Packaging, arrived legit...   \n",
      "\n",
      "                                      cleaned_review Sentiment  \n",
      "0                                             issues  Positive  \n",
      "1  purchased device worked advertised never much ...  Positive  \n",
      "2  works expected sprung higher capacity think ma...  Positive  \n",
      "3  think worked greathad diff bran gb card went s...  Positive  \n",
      "4  bought retail packaging arrived legit orange e...  Positive  \n"
     ]
    }
   ],
   "source": [
    "df.loc[:, 'cleaned_review'] = df['reviewText'].apply(clean_text)\n",
    "print(\"\\nAfter Cleaning:\")\n",
    "print(df[['reviewText', 'cleaned_review', 'Sentiment']].head())\n"
   ]
  },
  {
   "cell_type": "code",
   "execution_count": 48,
   "id": "1c33e1e7-2e10-49f9-91d4-617098be538c",
   "metadata": {},
   "outputs": [],
   "source": [
    "# Step 4: TF-IDF Vectorization\n",
    "vectorizer = TfidfVectorizer(max_features=5000, ngram_range=(1, 2))\n",
    "X = vectorizer.fit_transform(df['cleaned_review'])\n",
    "y = df['Sentiment']"
   ]
  },
  {
   "cell_type": "code",
   "execution_count": 56,
   "id": "ea3f97cb-0c28-4736-85c4-536a7f4dcb83",
   "metadata": {},
   "outputs": [
    {
     "name": "stdout",
     "output_type": "stream",
     "text": [
      "\n",
      "After SMOTE Balancing:\n",
      "Sentiment\n",
      "Positive    4449\n",
      "Neutral     4449\n",
      "Negative    4449\n",
      "Name: count, dtype: int64\n"
     ]
    }
   ],
   "source": [
    "# Step 5: Balance Dataset with SMOTE\n",
    "from imblearn.over_sampling import SMOTE\n",
    "\n",
    "smote = SMOTE(random_state=42)\n",
    "X_res, y_res = smote.fit_resample(X, y)\n",
    "print(\"\\nAfter SMOTE Balancing:\")\n",
    "print(y_res.value_counts())\n"
   ]
  },
  {
   "cell_type": "code",
   "execution_count": 57,
   "id": "084aff13-3a55-4681-b93c-5116d0a2e023",
   "metadata": {},
   "outputs": [],
   "source": [
    "# Step 6: Train-Test Split\n",
    "X_train, X_test, y_train, y_test = train_test_split(X_res, y_res, test_size=0.2, random_state=43)\n"
   ]
  },
  {
   "cell_type": "code",
   "execution_count": 58,
   "id": "f4f7fe1c-6830-46a7-8c2a-34c8879534af",
   "metadata": {},
   "outputs": [
    {
     "data": {
      "text/html": [
       "<style>#sk-container-id-1 {color: black;}#sk-container-id-1 pre{padding: 0;}#sk-container-id-1 div.sk-toggleable {background-color: white;}#sk-container-id-1 label.sk-toggleable__label {cursor: pointer;display: block;width: 100%;margin-bottom: 0;padding: 0.3em;box-sizing: border-box;text-align: center;}#sk-container-id-1 label.sk-toggleable__label-arrow:before {content: \"▸\";float: left;margin-right: 0.25em;color: #696969;}#sk-container-id-1 label.sk-toggleable__label-arrow:hover:before {color: black;}#sk-container-id-1 div.sk-estimator:hover label.sk-toggleable__label-arrow:before {color: black;}#sk-container-id-1 div.sk-toggleable__content {max-height: 0;max-width: 0;overflow: hidden;text-align: left;background-color: #f0f8ff;}#sk-container-id-1 div.sk-toggleable__content pre {margin: 0.2em;color: black;border-radius: 0.25em;background-color: #f0f8ff;}#sk-container-id-1 input.sk-toggleable__control:checked~div.sk-toggleable__content {max-height: 200px;max-width: 100%;overflow: auto;}#sk-container-id-1 input.sk-toggleable__control:checked~label.sk-toggleable__label-arrow:before {content: \"▾\";}#sk-container-id-1 div.sk-estimator input.sk-toggleable__control:checked~label.sk-toggleable__label {background-color: #d4ebff;}#sk-container-id-1 div.sk-label input.sk-toggleable__control:checked~label.sk-toggleable__label {background-color: #d4ebff;}#sk-container-id-1 input.sk-hidden--visually {border: 0;clip: rect(1px 1px 1px 1px);clip: rect(1px, 1px, 1px, 1px);height: 1px;margin: -1px;overflow: hidden;padding: 0;position: absolute;width: 1px;}#sk-container-id-1 div.sk-estimator {font-family: monospace;background-color: #f0f8ff;border: 1px dotted black;border-radius: 0.25em;box-sizing: border-box;margin-bottom: 0.5em;}#sk-container-id-1 div.sk-estimator:hover {background-color: #d4ebff;}#sk-container-id-1 div.sk-parallel-item::after {content: \"\";width: 100%;border-bottom: 1px solid gray;flex-grow: 1;}#sk-container-id-1 div.sk-label:hover label.sk-toggleable__label {background-color: #d4ebff;}#sk-container-id-1 div.sk-serial::before {content: \"\";position: absolute;border-left: 1px solid gray;box-sizing: border-box;top: 0;bottom: 0;left: 50%;z-index: 0;}#sk-container-id-1 div.sk-serial {display: flex;flex-direction: column;align-items: center;background-color: white;padding-right: 0.2em;padding-left: 0.2em;position: relative;}#sk-container-id-1 div.sk-item {position: relative;z-index: 1;}#sk-container-id-1 div.sk-parallel {display: flex;align-items: stretch;justify-content: center;background-color: white;position: relative;}#sk-container-id-1 div.sk-item::before, #sk-container-id-1 div.sk-parallel-item::before {content: \"\";position: absolute;border-left: 1px solid gray;box-sizing: border-box;top: 0;bottom: 0;left: 50%;z-index: -1;}#sk-container-id-1 div.sk-parallel-item {display: flex;flex-direction: column;z-index: 1;position: relative;background-color: white;}#sk-container-id-1 div.sk-parallel-item:first-child::after {align-self: flex-end;width: 50%;}#sk-container-id-1 div.sk-parallel-item:last-child::after {align-self: flex-start;width: 50%;}#sk-container-id-1 div.sk-parallel-item:only-child::after {width: 0;}#sk-container-id-1 div.sk-dashed-wrapped {border: 1px dashed gray;margin: 0 0.4em 0.5em 0.4em;box-sizing: border-box;padding-bottom: 0.4em;background-color: white;}#sk-container-id-1 div.sk-label label {font-family: monospace;font-weight: bold;display: inline-block;line-height: 1.2em;}#sk-container-id-1 div.sk-label-container {text-align: center;}#sk-container-id-1 div.sk-container {/* jupyter's `normalize.less` sets `[hidden] { display: none; }` but bootstrap.min.css set `[hidden] { display: none !important; }` so we also need the `!important` here to be able to override the default hidden behavior on the sphinx rendered scikit-learn.org. See: https://github.com/scikit-learn/scikit-learn/issues/21755 */display: inline-block !important;position: relative;}#sk-container-id-1 div.sk-text-repr-fallback {display: none;}</style><div id=\"sk-container-id-1\" class=\"sk-top-container\"><div class=\"sk-text-repr-fallback\"><pre>LogisticRegression(max_iter=1000)</pre><b>In a Jupyter environment, please rerun this cell to show the HTML representation or trust the notebook. <br />On GitHub, the HTML representation is unable to render, please try loading this page with nbviewer.org.</b></div><div class=\"sk-container\" hidden><div class=\"sk-item\"><div class=\"sk-estimator sk-toggleable\"><input class=\"sk-toggleable__control sk-hidden--visually\" id=\"sk-estimator-id-1\" type=\"checkbox\" checked><label for=\"sk-estimator-id-1\" class=\"sk-toggleable__label sk-toggleable__label-arrow\">LogisticRegression</label><div class=\"sk-toggleable__content\"><pre>LogisticRegression(max_iter=1000)</pre></div></div></div></div></div>"
      ],
      "text/plain": [
       "LogisticRegression(max_iter=1000)"
      ]
     },
     "execution_count": 58,
     "metadata": {},
     "output_type": "execute_result"
    }
   ],
   "source": [
    "# Step 7: Model Training\n",
    "model = LogisticRegression(max_iter=1000)\n",
    "model.fit(X_train, y_train)\n"
   ]
  },
  {
   "cell_type": "code",
   "execution_count": 98,
   "id": "0b64b137-ddf9-45b0-942a-a4182ecad8bc",
   "metadata": {},
   "outputs": [
    {
     "data": {
      "image/png": "[encoded data removed]",
      "text/plain": [
       "<Figure size 640x480 with 2 Axes>"
      ]
     },
     "metadata": {},
     "output_type": "display_data"
    }
   ],
   "source": [
    "# step 7: Visualization\n",
    "cm = confusion_matrix(y_test, y_pred)\n",
    "sns.heatmap(cm, annot=True, fmt='d', cmap='Blues')\n",
    "plt.title(\"Sentiment Confusion Matrix\")\n",
    "plt.xlabel(\"Predicted\")\n",
    "plt.ylabel(\"Actual\")\n",
    "plt.show()\n"
   ]
  },
  {
   "cell_type": "code",
   "execution_count": 59,
   "id": "03b2663f-1139-4a7c-af0e-abca121a78fb",
   "metadata": {},
   "outputs": [
    {
     "name": "stdout",
     "output_type": "stream",
     "text": [
      "\n",
      "Accuracy: 98.72659176029963 %\n",
      "\n",
      "Classification Report:\n",
      "               precision    recall  f1-score   support\n",
      "\n",
      "    Negative       0.98      1.00      0.99       913\n",
      "     Neutral       0.98      1.00      0.99       900\n",
      "    Positive       1.00      0.96      0.98       857\n",
      "\n",
      "    accuracy                           0.99      2670\n",
      "   macro avg       0.99      0.99      0.99      2670\n",
      "weighted avg       0.99      0.99      0.99      2670\n",
      "\n"
     ]
    }
   ],
   "source": [
    "# Step 8: Evaluation\n",
    "y_pred = model.predict(X_test)\n",
    "print(\"\\nAccuracy:\", accuracy_score(y_test, y_pred) * 100, \"%\")\n",
    "print(\"\\nClassification Report:\\n\", classification_report(y_test, y_pred))\n"
   ]
  },
  {
   "cell_type": "code",
   "execution_count": 60,
   "id": "5b4a0eb4-4228-4618-8d5f-ead5806ed4b4",
   "metadata": {},
   "outputs": [],
   "source": [
    "# Step 9: Real-time Prediction Function\n",
    "def predict_sentiment(review):\n",
    "    cleaned = clean_text(review)\n",
    "    vector = vectorizer.transform([cleaned])  # vectorizer is now fitted\n",
    "    return model.predict(vector)[0]\n",
    "\n"
   ]
  },
  {
   "cell_type": "code",
   "execution_count": 96,
   "id": "2404d1ef-e9a0-49e8-8d31-89660c0bc85b",
   "metadata": {},
   "outputs": [],
   "source": [
    " def predict_sentiment(review):\n",
    "    score = vader.polarity_scores(review)['compound']\n",
    "    # Lower threshold for neutral\n",
    "    if score >= 0.25:\n",
    "        return 'Positive'\n",
    "    elif score <= -0.25:\n",
    "        return 'Negative'\n",
    "    else:\n",
    "        return 'Neutral'\n"
   ]
  },
  {
   "cell_type": "code",
   "execution_count": 97,
   "id": "016f525f-3f29-4357-9469-0def8abe3c88",
   "metadata": {},
   "outputs": [
    {
     "name": "stdout",
     "output_type": "stream",
     "text": [
      "This product is bad! -> Negative\n",
      "This product is not good! -> Negative\n",
      "I love this item! -> Positive\n",
      "The quality is okay, not great -> Negative\n",
      "Worst product ever -> Negative\n"
     ]
    }
   ],
   "source": [
    "print(\"This product is bad! ->\", predict_sentiment(\"This product is bad!\"))\n",
    "print(\"This product is not good! ->\", predict_sentiment(\"This product is not good!\"))\n",
    "print(\"I love this item! ->\", predict_sentiment(\"I love this item!\"))\n",
    "print(\"The quality is okay, not great ->\", predict_sentiment(\"The quality is okay, not great\"))\n",
    "print(\"Worst product ever ->\", predict_sentiment(\"Worst product ever\"))\n"
   ]
  },
  {
   "cell_type": "code",
   "execution_count": null,
   "id": "009e97cf-703c-4b55-99f3-0a057b837f4d",
   "metadata": {},
   "outputs": [],
   "source": []
  },
  {
   "cell_type": "code",
   "execution_count": null,
   "id": "706f4c52-5c0b-4034-8cef-d05d1fc690f7",
   "metadata": {},
   "outputs": [],
   "source": []
  },
  {
   "cell_type": "code",
   "execution_count": null,
   "id": "0682347f-0891-41b1-9756-980d53f89d5a",
   "metadata": {},
   "outputs": [],
   "source": []
  }
 ],
 "metadata": {
  "kernelspec": {
   "display_name": "Python 3 (ipykernel)",
   "language": "python",
   "name": "python3"
  },
  "language_info": {
   "codemirror_mode": {
    "name": "ipython",
    "version": 3
   },
   "file_extension": ".py",
   "mimetype": "text/x-python",
   "name": "python",
   "nbconvert_exporter": "python",
   "pygments_lexer": "ipython3",
   "version": "3.12.7"
  },
  "widgets": {
   "application/vnd.jupyter.widget-state+json": {
    "state": {},
    "version_major": 2,
    "version_minor": 0
   }
  }
 },
 "nbformat": 4,
 "nbformat_minor": 5
}
